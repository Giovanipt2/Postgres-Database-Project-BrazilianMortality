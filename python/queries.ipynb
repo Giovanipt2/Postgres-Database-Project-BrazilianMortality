{
 "cells": [
  {
   "cell_type": "markdown",
   "id": "d0f91b12",
   "metadata": {},
   "source": [
    "# **Preparations**"
   ]
  },
  {
   "cell_type": "markdown",
   "id": "100b19c5",
   "metadata": {},
   "source": [
    "### **Importing necessary modules**"
   ]
  },
  {
   "cell_type": "code",
   "execution_count": null,
   "id": "d76e273f",
   "metadata": {},
   "outputs": [],
   "source": [
    "import psycopg2\n",
    "import os"
   ]
  },
  {
   "cell_type": "markdown",
   "id": "38d253ca",
   "metadata": {},
   "source": [
    "### **Establishing connection and declaring the cursor**"
   ]
  },
  {
   "cell_type": "code",
   "execution_count": null,
   "id": "f167a65f",
   "metadata": {},
   "outputs": [],
   "source": [
    "def connection():\n",
    "    conn = psycopg2.connect(\n",
    "        dbname= 'projeto1',\n",
    "        user= 'postgres',\n",
    "        password= '',   # Replace with actual password\n",
    "        host= 'localhost',\n",
    "        port= '5432'\n",
    "    )\n",
    "    cursor = conn.cursor()\n",
    "    return conn, cursor"
   ]
  },
  {
   "cell_type": "markdown",
   "id": "0dbc2d0d",
   "metadata": {},
   "source": [
    "### **Creating functions that execute queries**"
   ]
  },
  {
   "cell_type": "code",
   "execution_count": null,
   "id": "3b8303db",
   "metadata": {},
   "outputs": [],
   "source": [
    "def run_and_save_sql(cursor, query, file):\n",
    "    output = f'copy ({query}) to stdout with csv header'\n",
    "    cursor.copy_expert(output, file)"
   ]
  },
  {
   "cell_type": "code",
   "execution_count": null,
   "id": "6f819dac",
   "metadata": {},
   "outputs": [],
   "source": [
    "def run_sql(cursor, query):\n",
    "    cursor.execute(query)\n",
    "    column_names = [desc[0] for desc in cursor.description]\n",
    "    return column_names, cursor.fetchall()\n",
    "    "
   ]
  },
  {
   "cell_type": "markdown",
   "id": "44ad1f16",
   "metadata": {},
   "source": [
    "# **Declaring queries**"
   ]
  },
  {
   "cell_type": "markdown",
   "id": "ffa86cc4",
   "metadata": {},
   "source": [
    "### **Get mortality rate by state**"
   ]
  },
  {
   "cell_type": "code",
   "execution_count": null,
   "id": "a8f41c38",
   "metadata": {},
   "outputs": [],
   "source": [
    "mortality_by_state_sql = \"\"\"\n",
    "    -- Estimate population, total deaths, and mortality rate (per 1000) by state\n",
    "    WITH population_by_state AS (\n",
    "        SELECT \n",
    "            s.\"name\" AS state_name,\n",
    "            SUM(m.\"population_estimate_2009\") AS estimated_population\n",
    "        FROM \"Municipality\" m\n",
    "        JOIN \"State\" s ON s.\"IBGE_state_code\" = m.\"IBGE_state_code\"\n",
    "        GROUP BY s.\"name\"\n",
    "    ),\n",
    "\n",
    "    deaths_by_state AS (\n",
    "        SELECT \n",
    "            s.\"name\" AS state_name,\n",
    "            COUNT(*) AS total_deaths             \n",
    "        FROM \"Death\" d\n",
    "        JOIN \"Municipality\" m ON d.\"location_code\" = m.\"IBGE_city_code\"\n",
    "        JOIN \"State\" s ON s.\"IBGE_state_code\" = m.\"IBGE_state_code\"\n",
    "        GROUP BY s.\"name\"\n",
    "    )\n",
    "\n",
    "    SELECT \n",
    "        pop.state_name AS \"State\",\n",
    "        pop.estimated_population AS \"Estimated_Population\",\n",
    "        dth.total_deaths AS \"Total_Deaths\",\n",
    "        ROUND(\n",
    "            CAST((1000 * dth.total_deaths / pop.estimated_population) AS NUMERIC),\n",
    "            4\n",
    "        ) AS \"Mortality_Rate\"\n",
    "    FROM population_by_state pop\n",
    "    JOIN deaths_by_state dth ON pop.state_name = dth.state_name\n",
    "    ORDER BY \"Mortality_Rate\" DESC\n",
    "    \"\"\""
   ]
  },
  {
   "cell_type": "markdown",
   "id": "6ebeb153",
   "metadata": {},
   "source": [
    "### **Get the most common cause of death by age**"
   ]
  },
  {
   "cell_type": "code",
   "execution_count": null,
   "id": "f52003e9",
   "metadata": {},
   "outputs": [],
   "source": [
    "death_cause_by_age_sql = \"\"\"\n",
    "    -- Find the most common cause of death (modal cause) for each age\n",
    "    WITH causes_by_age AS (\n",
    "        SELECT  \n",
    "            dth.\"basic_cause_id\" AS cause_id,\n",
    "            ROUND(CAST(dcs.\"age\" AS NUMERIC), 0) AS age,\n",
    "            COUNT(*) AS death_count\n",
    "        FROM \"Death\" dth\n",
    "        JOIN \"Deceased\" dcs ON dth.\"death_id\" = dcs.\"deceased_id\"\n",
    "        GROUP BY age, dth.\"basic_cause_id\"\n",
    "    ),\n",
    "\n",
    "    age_totals_and_max AS (\n",
    "        SELECT \n",
    "            age,\n",
    "            MAX(death_count) AS max_death_count,\n",
    "            SUM(death_count) AS total_deaths_for_age\n",
    "        FROM causes_by_age\n",
    "        GROUP BY age\n",
    "    )\n",
    "\n",
    "    SELECT  \n",
    "        cba.age,\n",
    "        dc.\"description\" AS most_common_cause,\n",
    "        cba.death_count AS deaths_from_cause,\n",
    "        atm.total_deaths_for_age,\n",
    "        ROUND(100.0 * cba.death_count / atm.total_deaths_for_age, 4) AS cause_percentage\n",
    "    FROM causes_by_age cba\n",
    "    JOIN age_totals_and_max atm \n",
    "        ON cba.age = atm.age AND cba.death_count = atm.max_death_count\n",
    "    JOIN \"DeathCause\" dc \n",
    "        ON dc.\"basic_cause_id\" = cba.cause_id\n",
    "    ORDER BY cba.age\n",
    "    \"\"\""
   ]
  },
  {
   "cell_type": "markdown",
   "id": "6195600d",
   "metadata": {},
   "source": [
    "### **Get the average age at death (proxy for life expectancy) by city GDP per capita decile**"
   ]
  },
  {
   "cell_type": "code",
   "execution_count": null,
   "id": "7cf928e2",
   "metadata": {},
   "outputs": [],
   "source": [
    "life_expectancy_by_gdp_sql = \"\"\"\n",
    "    -- Analyze death statistics by GDP per capita decile\n",
    "\tWITH city_deciles AS (\n",
    "\t\tSELECT \n",
    "\t\t\t\"IBGE_city_code\" AS city_code,\n",
    "\t\t\tNTILE(10) OVER (ORDER BY \"GDP_per_capita\") AS decile\n",
    "\t\tFROM \"Municipality\"\n",
    "\t),\n",
    "\n",
    "\tcity_stats_by_decile AS (\n",
    "\t\tSELECT \n",
    "\t\t\tdecile,\n",
    "\t\t\tCOUNT(*) AS number_of_cities,\n",
    "\t\t\tMIN(m.\"GDP_per_capita\") AS lowest_gdp_per_capita,\n",
    "\t\t\tMAX(m.\"GDP_per_capita\") AS highest_gdp_per_capita,\n",
    "\t\t\tSUM(m.\"population_estimate_2009\") AS total_population\n",
    "\t\tFROM \"Municipality\" m\n",
    "\t\tJOIN city_deciles d ON m.\"IBGE_city_code\" = d.city_code\n",
    "\t\tGROUP BY decile\n",
    "\t),\n",
    "\n",
    "\tdeath_stats_by_decile AS (\n",
    "\t\tSELECT \n",
    "\t\t\td.decile,\n",
    "\t\t\tCOUNT(*) AS total_deaths,\n",
    "\t\t\tROUND(CAST(AVG(dc.\"age\") AS NUMERIC), 4) AS mean_age_of_death,\n",
    "\t\t\tPERCENTILE_CONT(0.5) WITHIN GROUP (ORDER BY dc.\"age\") AS median_age_of_death\n",
    "\t\tFROM \"Death\" dt\n",
    "\t\tJOIN \"Deceased\" dc ON dt.\"death_id\" = dc.\"deceased_id\"\n",
    "\t\tJOIN city_deciles d ON dt.\"location_code\" = d.city_code\n",
    "\t\tGROUP BY d.decile\n",
    "\t)\n",
    "\n",
    "\tSELECT \n",
    "\t\tcs.decile AS decile,\n",
    "\t\tcs.number_of_cities,\n",
    "\t\tcs.lowest_gdp_per_capita,\n",
    "\t\tcs.highest_gdp_per_capita,\n",
    "\t\tcs.total_population,\n",
    "\t\tds.total_deaths,\n",
    "\t\tds.mean_age_of_death,\n",
    "\t\tds.median_age_of_death\n",
    "\tFROM city_stats_by_decile cs\n",
    "\tJOIN death_stats_by_decile ds ON cs.decile = ds.decile\n",
    "\tORDER BY cs.decile\n",
    "    \"\"\""
   ]
  },
  {
   "cell_type": "markdown",
   "id": "a125ef73",
   "metadata": {},
   "source": [
    "### **Get the top 3 causes of deaths for children under five, grouped by mother's education level**"
   ]
  },
  {
   "cell_type": "code",
   "execution_count": null,
   "id": "2cb084d5",
   "metadata": {},
   "outputs": [],
   "source": [
    "cause_by_mothers_education_sql = \"\"\"\n",
    "    -- Top 3 causes of death (under age 5) by mother's education level\n",
    "\tWITH deaths_by_mother_edu AS (\n",
    "\t\tSELECT  \n",
    "\t\t\tmom.\"education_level\" AS education_level,\n",
    "\t\t\tdth.\"basic_cause_id\" AS cause_id,\n",
    "\t\t\tROUND(AVG(CAST(mom.\"age\" AS NUMERIC)), 2) AS mothers_avg_age,\n",
    "\t\t\tCOUNT(*) AS death_count\n",
    "\t\tFROM \"Deceased\" dcs\n",
    "\t\tJOIN \"Mother\" mom \n",
    "\t\t\tON dcs.\"deceased_id\" = mom.\"mother_id\"\n",
    "\t\t\tAND dcs.\"age\" < 5.0\n",
    "\t\t\tAND mom.\"education_level\" IN (0, 1, 2, 3, 4, 5)\n",
    "\t\tJOIN \"Death\" dth\n",
    "\t\t\tON dcs.\"deceased_id\" = dth.\"death_id\"\n",
    "\t\tGROUP BY mom.\"education_level\", dth.\"basic_cause_id\"\n",
    "\t),\n",
    "\n",
    "\tranked_causes AS (\n",
    "\t\tSELECT  \n",
    "\t\t\teducation_level,\n",
    "\t\t\tcause_id,\n",
    "\t\t\tdeath_count,\n",
    "\t\t\tRANK() OVER (\n",
    "\t\t\t\tPARTITION BY education_level \n",
    "\t\t\t\tORDER BY death_count DESC\n",
    "\t\t\t) AS cause_rank\n",
    "\t\tFROM deaths_by_mother_edu\n",
    "\t),\n",
    "\n",
    "\tedu_totals AS (\n",
    "\t\tSELECT  \n",
    "\t\t\teducation_level,\n",
    "\t\t\tSUM(death_count) AS total_death_count\n",
    "\t\tFROM deaths_by_mother_edu\n",
    "\t\tGROUP BY education_level\n",
    "\t)\n",
    "\n",
    "\tSELECT\n",
    "\t\tCASE dme.education_level\n",
    "\t\t\tWHEN 0 THEN 'None'\n",
    "\t\t\tWHEN 1 THEN 'Elementary School'\n",
    "\t\t\tWHEN 2 THEN 'Middle School'\n",
    "\t\t\tWHEN 3 THEN 'High School'\n",
    "\t\t\tWHEN 4 THEN 'Incomplete Higher Education'\n",
    "\t\t\tWHEN 5 THEN 'Complete Higher Education'\n",
    "\t\t\tELSE 'Other'\n",
    "\t\tEND AS mothers_education_level,\n",
    "\t\trc.cause_rank,\n",
    "\t\tdc.\"description\" AS cause_of_death,\n",
    "\t\tdme.mothers_avg_age,\n",
    "\t\trc.death_count AS cause_death_count,\n",
    "\t\tet.total_death_count,\n",
    "\t\tROUND(100.0 * rc.death_count / et.total_death_count, 2) AS cause_percentage\n",
    "\n",
    "\tFROM deaths_by_mother_edu dme\n",
    "\tJOIN ranked_causes rc \n",
    "\t\tON rc.education_level = dme.education_level \n",
    "\t\tAND rc.cause_id = dme.cause_id \n",
    "\t\tAND rc.cause_rank <= 3\n",
    "\tJOIN \"DeathCause\" dc \n",
    "\t\tON dc.\"basic_cause_id\" = dme.cause_id\n",
    "\tJOIN edu_totals et \n",
    "\t\tON et.education_level = dme.education_level\n",
    "\n",
    "\tORDER BY rc.education_level, rc.cause_rank\n",
    "    \"\"\""
   ]
  },
  {
   "cell_type": "markdown",
   "id": "cc26e2c2",
   "metadata": {},
   "source": [
    "### **Get the mortality rate grouped by city population per healthcare unit (inverse healthcare unit density)**"
   ]
  },
  {
   "cell_type": "code",
   "execution_count": null,
   "id": "f9747090",
   "metadata": {},
   "outputs": [],
   "source": [
    "mortality_by_health_unit_density_sql = \"\"\"\n",
    "    -- Analyze non-external mortality rates grouped by population per health unit\n",
    "\tWITH population_per_unit AS (\n",
    "\t\tSELECT\n",
    "\t\t\tm.\"IBGE_city_code\",\n",
    "\t\t\tm.\"population_estimate_2009\",\n",
    "\t\t\tu.unit_count,\n",
    "\t\t\tm.\"population_estimate_2009\" / u.unit_count AS persons_per_unit\n",
    "\t\tFROM \"Municipality\" m\n",
    "\t\tJOIN (\n",
    "\t\t\tSELECT\n",
    "\t\t\t\t\"IBGE_city_code\",\n",
    "\t\t\t\tCOUNT(*) AS unit_count\n",
    "\t\t\tFROM \"BasicHealthUnit\"\n",
    "\t\t\tGROUP BY \"IBGE_city_code\"\n",
    "\t\t) u ON m.\"IBGE_city_code\" = u.\"IBGE_city_code\"\n",
    "\t),\n",
    "\n",
    "\tnon_external_deaths AS (\n",
    "\t\tSELECT\n",
    "\t\t\tm.\"IBGE_city_code\",\n",
    "\t\t\tm.\"population_estimate_2009\",\n",
    "\t\t\td.total_deaths AS non_external_death_count\n",
    "\t\tFROM \"Municipality\" m\n",
    "\t\tJOIN (\n",
    "\t\t\tSELECT\n",
    "\t\t\t\t\"location_code\",\n",
    "\t\t\t\tCOUNT(*) AS total_deaths\n",
    "\t\t\tFROM \"Death\"\n",
    "\t\t\tWHERE NOT (\n",
    "\t\t\t\t\"basic_cause_id\" LIKE 'S%' OR\n",
    "\t\t\t\t\"basic_cause_id\" LIKE 'T%' OR\n",
    "\t\t\t\t\"basic_cause_id\" LIKE 'V%' OR\n",
    "\t\t\t\t\"basic_cause_id\" LIKE 'W%' OR\n",
    "\t\t\t\t\"basic_cause_id\" LIKE 'X%' OR\n",
    "\t\t\t\t\"basic_cause_id\" LIKE 'Y%'\n",
    "\t\t\t)\n",
    "\t\t\tGROUP BY \"location_code\"\n",
    "\t\t) d ON m.\"IBGE_city_code\" = d.\"location_code\"\n",
    "\t),\n",
    "\n",
    "\tcity_bins AS (\n",
    "\t\tSELECT\n",
    "\t\t\tppu.\"IBGE_city_code\",\n",
    "\t\t\tppu.\"population_estimate_2009\",\n",
    "\t\t\tppu.unit_count,\n",
    "\t\t\tppu.persons_per_unit,\n",
    "\t\t\tnd.non_external_death_count,\n",
    "\t\t\tCASE \n",
    "\t\t\t\tWHEN ppu.persons_per_unit < 1500 THEN 1\n",
    "\t\t\t\tWHEN ppu.persons_per_unit < 2000 THEN 2\n",
    "\t\t\t\tWHEN ppu.persons_per_unit < 2500 THEN 3\n",
    "\t\t\t\tWHEN ppu.persons_per_unit < 3000 THEN 4\n",
    "\t\t\t\tWHEN ppu.persons_per_unit < 4000 THEN 5\n",
    "\t\t\t\tWHEN ppu.persons_per_unit < 5000 THEN 6\n",
    "\t\t\t\tELSE 7\n",
    "\t\t\tEND AS ppu_range\n",
    "\t\tFROM population_per_unit ppu\n",
    "\t\tJOIN non_external_deaths nd ON ppu.\"IBGE_city_code\" = nd.\"IBGE_city_code\"\n",
    "\t)\n",
    "\n",
    "\tSELECT\n",
    "\t\tCASE ppu_range\n",
    "\t\t\tWHEN 1 THEN 'Fewer than 1500'\n",
    "\t\t\tWHEN 2 THEN '1500–1999'\n",
    "\t\t\tWHEN 3 THEN '2000–2499'\n",
    "\t\t\tWHEN 4 THEN '2500–2999'\n",
    "\t\t\tWHEN 5 THEN '3000–3999'\n",
    "\t\t\tWHEN 6 THEN '4000–4999'\n",
    "\t\t\tWHEN 7 THEN '5000 or more'\n",
    "\t\tEND AS individuals_per_health_unit,\n",
    "\t\tCOUNT(*) AS number_of_cities,\n",
    "\t\tSUM(population_estimate_2009) AS total_population,\n",
    "\t\tSUM(unit_count) AS total_units,\n",
    "\t\tSUM(non_external_death_count) AS total_non_external_deaths,\n",
    "\t\tROUND(\n",
    "\t\t\tCAST(1000 * SUM(non_external_death_count) / SUM(population_estimate_2009) AS NUMERIC),\n",
    "\t\t\t4\n",
    "\t\t) AS mortality_rate\n",
    "\tFROM city_bins\n",
    "\tGROUP BY ppu_range\n",
    "\tORDER BY ppu_range\n",
    "    \"\"\""
   ]
  },
  {
   "cell_type": "markdown",
   "id": "07913ad0",
   "metadata": {},
   "source": [
    "# **Executing queries and saving results as csv**"
   ]
  },
  {
   "cell_type": "code",
   "execution_count": null,
   "id": "e4b019b9",
   "metadata": {},
   "outputs": [],
   "source": [
    "conn,cursor = connection()\n",
    "with open(os.path.abspath('../results/mortality_by_state.csv'), \"w\") as f:\n",
    "    run_and_save_sql(cursor, mortality_by_state_sql, f)\n",
    "cursor.close()\n",
    "conn.close()"
   ]
  },
  {
   "cell_type": "code",
   "execution_count": null,
   "id": "05a4fd1e",
   "metadata": {},
   "outputs": [],
   "source": [
    "conn,cursor = connection()\n",
    "with open(os.path.abspath('../results/death_cause_by_age.csv'), \"w\") as f:\n",
    "    run_and_save_sql(cursor, death_cause_by_age_sql, f)\n",
    "cursor.close()\n",
    "conn.close()"
   ]
  },
  {
   "cell_type": "code",
   "execution_count": null,
   "id": "dcad9e43",
   "metadata": {},
   "outputs": [],
   "source": [
    "conn,cursor = connection()\n",
    "with open(os.path.abspath('../results/life_expectancy_by_gdp.csv'), \"w\") as f:\n",
    "    run_and_save_sql(cursor, life_expectancy_by_gdp_sql, f)\n",
    "cursor.close()\n",
    "conn.close()"
   ]
  },
  {
   "cell_type": "code",
   "execution_count": null,
   "id": "36929f0b",
   "metadata": {},
   "outputs": [],
   "source": [
    "conn,cursor = connection()\n",
    "with open(os.path.abspath('../results/cause_by_mothers_education.csv'), \"w\") as f:\n",
    "    run_and_save_sql(cursor, cause_by_mothers_education_sql, f)\n",
    "cursor.close()\n",
    "conn.close()"
   ]
  },
  {
   "cell_type": "code",
   "execution_count": null,
   "id": "9b0f7e3b",
   "metadata": {},
   "outputs": [],
   "source": [
    "conn,cursor = connection()\n",
    "with open(os.path.abspath('../results/mortality_by_health_unit_density.csv'), \"w\") as f:\n",
    "    run_and_save_sql(cursor, mortality_by_health_unit_density_sql, f)\n",
    "cursor.close()\n",
    "conn.close()"
   ]
  },
  {
   "cell_type": "markdown",
   "id": "8f839125",
   "metadata": {},
   "source": [
    "# **Executing queries and printing results**"
   ]
  },
  {
   "cell_type": "code",
   "execution_count": null,
   "id": "5e926fdf",
   "metadata": {},
   "outputs": [],
   "source": [
    "queries = {1 : mortality_by_state_sql,\n",
    "           2 : death_cause_by_age_sql,\n",
    "           3 : life_expectancy_by_gdp_sql,\n",
    "           4 : cause_by_mothers_education_sql,\n",
    "           5 : mortality_by_health_unit_density_sql}\n",
    "conn,cursor = connection()\n",
    "col_names, rows = run_sql(cursor, queries[5])   # change index to desired query\n",
    "cursor.close()\n",
    "conn.close()\n",
    "\n",
    "for col in col_names:\n",
    "    print(f'| {col} ', end='')\n",
    "print('|')\n",
    "for row in rows:\n",
    "    for value in row:\n",
    "        print(f'| {value} ', end='')\n",
    "    print('|')"
   ]
  }
 ],
 "metadata": {
  "kernelspec": {
   "display_name": "base",
   "language": "python",
   "name": "python3"
  },
  "language_info": {
   "codemirror_mode": {
    "name": "ipython",
    "version": 3
   },
   "file_extension": ".py",
   "mimetype": "text/x-python",
   "name": "python",
   "nbconvert_exporter": "python",
   "pygments_lexer": "ipython3",
   "version": "3.12.4"
  }
 },
 "nbformat": 4,
 "nbformat_minor": 5
}
