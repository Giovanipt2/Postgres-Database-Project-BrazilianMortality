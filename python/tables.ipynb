{
 "cells": [
  {
   "cell_type": "markdown",
   "id": "d90a96fe",
   "metadata": {},
   "source": [
    "# **Preparations**"
   ]
  },
  {
   "cell_type": "markdown",
   "id": "869537a6",
   "metadata": {},
   "source": [
    "### **Importing necessary modules**"
   ]
  },
  {
   "cell_type": "code",
   "execution_count": null,
   "id": "0fb63de5",
   "metadata": {},
   "outputs": [],
   "source": [
    "import psycopg2\n",
    "import os"
   ]
  },
  {
   "cell_type": "markdown",
   "id": "1d24306b",
   "metadata": {},
   "source": [
    "### **Estabilishing connection and declaring the cursor**"
   ]
  },
  {
   "cell_type": "code",
   "execution_count": null,
   "id": "1357cb07",
   "metadata": {},
   "outputs": [],
   "source": [
    "def connection():\n",
    "    conn = psycopg2.connect(\n",
    "        dbname= 'projeto1',\n",
    "        user= 'postgres',\n",
    "        password= '',   # Replace with actual password\n",
    "        host= 'localhost',\n",
    "        port= '5432'\n",
    "    )\n",
    "    cursor = conn.cursor()\n",
    "    return conn, cursor"
   ]
  },
  {
   "cell_type": "markdown",
   "id": "247f8c3e",
   "metadata": {},
   "source": [
    "# **Creating all tables**"
   ]
  },
  {
   "cell_type": "code",
   "execution_count": 159,
   "id": "c7acd238",
   "metadata": {},
   "outputs": [],
   "source": [
    "def create_tables_sql():\n",
    "    create_tables_sql = \"\"\"\n",
    "        BEGIN;\n",
    "\n",
    "\n",
    "        ALTER TABLE IF EXISTS public.\"BasicHealthUnit\" DROP CONSTRAINT IF EXISTS None;\n",
    "\n",
    "        ALTER TABLE IF EXISTS public.\"Death\" DROP CONSTRAINT IF EXISTS None;\n",
    "\n",
    "        ALTER TABLE IF EXISTS public.\"Death\" DROP CONSTRAINT IF EXISTS None;\n",
    "\n",
    "        ALTER TABLE IF EXISTS public.\"Death\" DROP CONSTRAINT IF EXISTS None;\n",
    "\n",
    "        ALTER TABLE IF EXISTS public.\"Mother\" DROP CONSTRAINT IF EXISTS \"Mother_mother_id_fkey\";\n",
    "\n",
    "        ALTER TABLE IF EXISTS public.\"Municipality\" DROP CONSTRAINT IF EXISTS \"Municipality_IBGE_state_code_fkey\";\n",
    "\n",
    "\n",
    "\n",
    "        DROP TABLE IF EXISTS public.\"BasicHealthUnit\";\n",
    "\n",
    "        CREATE TABLE IF NOT EXISTS public.\"BasicHealthUnit\"\n",
    "        (\n",
    "            \"CNES\" integer NOT NULL,\n",
    "            name character varying(200) COLLATE pg_catalog.\"default\",\n",
    "            \"IBGE_city_code\" integer,\n",
    "            CONSTRAINT \"BasicHealthUnit_pkey\" PRIMARY KEY (\"CNES\")\n",
    "        );\n",
    "\n",
    "        DROP TABLE IF EXISTS public.\"Death\";\n",
    "\n",
    "        CREATE TABLE IF NOT EXISTS public.\"Death\"\n",
    "        (\n",
    "            death_id integer NOT NULL,\n",
    "            date date,\n",
    "            \"time\" time without time zone,\n",
    "            location_code integer,\n",
    "            investigated boolean,\n",
    "            basic_cause_id character varying(10) COLLATE pg_catalog.\"default\",\n",
    "            time_relative_birth integer,\n",
    "            pregnancy_type integer,\n",
    "            gestational_age integer,\n",
    "            birth_type integer,\n",
    "            CONSTRAINT \"Death_pkey\" PRIMARY KEY (death_id)\n",
    "        );\n",
    "\n",
    "        DROP TABLE IF EXISTS public.\"DeathCause\";\n",
    "\n",
    "        CREATE TABLE IF NOT EXISTS public.\"DeathCause\"\n",
    "        (\n",
    "            basic_cause_id character varying(10) COLLATE pg_catalog.\"default\" NOT NULL,\n",
    "            description character varying(500) COLLATE pg_catalog.\"default\",\n",
    "            CONSTRAINT \"DeathCause_pkey\" PRIMARY KEY (basic_cause_id)\n",
    "        );\n",
    "\n",
    "        DROP TABLE IF EXISTS public.\"Deceased\";\n",
    "\n",
    "        CREATE TABLE IF NOT EXISTS public.\"Deceased\"\n",
    "        (\n",
    "            deceased_id integer NOT NULL,\n",
    "            occupation integer,\n",
    "            marital_status integer,\n",
    "            age double precision,\n",
    "            weight double precision,\n",
    "            education_level integer,\n",
    "            race_color integer,\n",
    "            sex integer,\n",
    "            CONSTRAINT \"Deceased_pkey\" PRIMARY KEY (deceased_id)\n",
    "        );\n",
    "\n",
    "        DROP TABLE IF EXISTS public.\"Mother\";\n",
    "\n",
    "        CREATE TABLE IF NOT EXISTS public.\"Mother\"\n",
    "        (\n",
    "            mother_id integer NOT NULL,\n",
    "            living_children integer,\n",
    "            deceased_children integer,\n",
    "            education_level integer,\n",
    "            age double precision,\n",
    "            occupation integer,\n",
    "            CONSTRAINT \"Mother_pkey\" PRIMARY KEY (mother_id)\n",
    "        );\n",
    "\n",
    "        DROP TABLE IF EXISTS public.\"Municipality\";\n",
    "\n",
    "        CREATE TABLE IF NOT EXISTS public.\"Municipality\"\n",
    "        (\n",
    "            \"IBGE_city_code\" integer NOT NULL,\n",
    "            name character varying(200) COLLATE pg_catalog.\"default\" NOT NULL,\n",
    "            \"GDP\" real,\n",
    "            \"GDP_per_capita\" real,\n",
    "            population_estimate_2009 double precision,\n",
    "            \"IBGE_state_code\" integer,\n",
    "            CONSTRAINT \"Municipality_pkey\" PRIMARY KEY (\"IBGE_city_code\")\n",
    "        );\n",
    "\n",
    "        DROP TABLE IF EXISTS public.\"State\";\n",
    "\n",
    "        CREATE TABLE IF NOT EXISTS public.\"State\"\n",
    "        (\n",
    "            \"IBGE_state_code\" integer NOT NULL,\n",
    "            name character varying(200) COLLATE pg_catalog.\"default\",\n",
    "            CONSTRAINT \"State_pkey\" PRIMARY KEY (\"IBGE_state_code\")\n",
    "        );\n",
    "\n",
    "        ALTER TABLE IF EXISTS public.\"BasicHealthUnit\"\n",
    "            ADD FOREIGN KEY (\"IBGE_city_code\")\n",
    "            REFERENCES public.\"Municipality\" (\"IBGE_city_code\") MATCH SIMPLE\n",
    "            ON UPDATE NO ACTION\n",
    "            ON DELETE NO ACTION\n",
    "            NOT VALID;\n",
    "\n",
    "\n",
    "        ALTER TABLE IF EXISTS public.\"Death\"\n",
    "            ADD FOREIGN KEY (basic_cause_id)\n",
    "            REFERENCES public.\"DeathCause\" (basic_cause_id) MATCH SIMPLE\n",
    "            ON UPDATE NO ACTION\n",
    "            ON DELETE NO ACTION\n",
    "            NOT VALID;\n",
    "\n",
    "\n",
    "        ALTER TABLE IF EXISTS public.\"Death\"\n",
    "            ADD FOREIGN KEY (death_id)\n",
    "            REFERENCES public.\"Deceased\" (deceased_id) MATCH SIMPLE\n",
    "            ON UPDATE NO ACTION\n",
    "            ON DELETE NO ACTION\n",
    "            NOT VALID;\n",
    "\n",
    "\n",
    "        ALTER TABLE IF EXISTS public.\"Death\"\n",
    "            ADD FOREIGN KEY (location_code)\n",
    "            REFERENCES public.\"Municipality\" (\"IBGE_city_code\") MATCH SIMPLE\n",
    "            ON UPDATE NO ACTION\n",
    "            ON DELETE NO ACTION\n",
    "            NOT VALID;\n",
    "\n",
    "\n",
    "        ALTER TABLE IF EXISTS public.\"Mother\"\n",
    "            ADD CONSTRAINT \"Mother_mother_id_fkey\" FOREIGN KEY (mother_id)\n",
    "            REFERENCES public.\"Deceased\" (deceased_id) MATCH SIMPLE\n",
    "            ON UPDATE NO ACTION\n",
    "            ON DELETE NO ACTION\n",
    "            NOT VALID;\n",
    "        CREATE INDEX IF NOT EXISTS \"Mother_pkey\"\n",
    "            ON public.\"Mother\"(mother_id);\n",
    "\n",
    "\n",
    "        ALTER TABLE IF EXISTS public.\"Municipality\"\n",
    "            ADD CONSTRAINT \"Municipality_IBGE_state_code_fkey\" FOREIGN KEY (\"IBGE_state_code\")\n",
    "            REFERENCES public.\"State\" (\"IBGE_state_code\") MATCH SIMPLE\n",
    "            ON UPDATE NO ACTION\n",
    "            ON DELETE NO ACTION\n",
    "            NOT VALID;\n",
    "\n",
    "        END;\n",
    "        \"\"\"\n",
    "    return create_tables_sql"
   ]
  },
  {
   "cell_type": "markdown",
   "id": "52722795",
   "metadata": {},
   "source": [
    "# **Inserting data into the tables**"
   ]
  },
  {
   "cell_type": "markdown",
   "id": "5d0328fe",
   "metadata": {},
   "source": [
    "### **Inserting data into the \"BasicHealthUnit\" table**"
   ]
  },
  {
   "cell_type": "code",
   "execution_count": 160,
   "id": "0eaebf24",
   "metadata": {},
   "outputs": [],
   "source": [
    "def insert_ubs(cursor):\n",
    "    insert_ubs_sql = \"\"\"\n",
    "        COPY \"BasicHealthUnit\" (\"CNES\", NAME, \"IBGE_city_code\")\n",
    "        FROM STDIN WITH (\n",
    "            FORMAT CSV,\n",
    "            HEADER,\n",
    "            DELIMITER ';',\n",
    "            NULL ''\n",
    "        )\n",
    "    \"\"\"\n",
    "    with open(os.path.abspath('../preprocessed_datasets/BasicHealthUnits.csv'), 'r', encoding='utf-8') as file:\n",
    "        cursor.copy_expert(insert_ubs_sql, file)"
   ]
  },
  {
   "cell_type": "markdown",
   "id": "94958f27",
   "metadata": {},
   "source": [
    "### **Inserting data into the \"State\" table**"
   ]
  },
  {
   "cell_type": "code",
   "execution_count": null,
   "id": "28128f30",
   "metadata": {},
   "outputs": [],
   "source": [
    "def insert_state(cursor):\n",
    "    insert_state_sql = \"\"\"\n",
    "        COPY \"State\" (\"IBGE_state_code\", NAME)\n",
    "        FROM STDIN WITH (\n",
    "            FORMAT CSV,\n",
    "            HEADER,\n",
    "            DELIMITER ';',\n",
    "            NULL ''\n",
    "        )\n",
    "    \"\"\"\n",
    "    with open(os.path.abspath('../preprocessed_datasets/State.csv'), 'r', encoding='utf-8') as file:\n",
    "        cursor.copy_expert(insert_state_sql, file)"
   ]
  },
  {
   "cell_type": "markdown",
   "id": "773d4fc6",
   "metadata": {},
   "source": [
    "### **Inserting data into the \"Municipality\" table**"
   ]
  },
  {
   "cell_type": "code",
   "execution_count": 162,
   "id": "0a3c5410",
   "metadata": {},
   "outputs": [],
   "source": [
    "def insert_municipality(cursor):\n",
    "    insert_munincipality_sql = \"\"\"\n",
    "        COPY \"Municipality\" (\"IBGE_city_code\", NAME, \"GDP\", \"GDP_per_capita\", POPULATION_ESTIMATE_2009, \"IBGE_state_code\")\n",
    "        FROM STDIN WITH (\n",
    "            FORMAT CSV,\n",
    "            HEADER,\n",
    "            DELIMITER ';',\n",
    "            NULL ''\n",
    "        )\n",
    "    \"\"\"\n",
    "    with open(os.path.abspath('../preprocessed_datasets/Municipality.csv'), 'r', encoding='utf-8') as file:\n",
    "        cursor.copy_expert(insert_munincipality_sql, file)"
   ]
  },
  {
   "cell_type": "markdown",
   "id": "1ea852a0",
   "metadata": {},
   "source": [
    "### **Inserting data into the \"Death\" table**"
   ]
  },
  {
   "cell_type": "code",
   "execution_count": null,
   "id": "287e1900",
   "metadata": {},
   "outputs": [],
   "source": [
    "def insert_death(cursor):\n",
    "    insert_death_sql = \"\"\"\n",
    "        COPY \"Death\" (DEATH_ID, DATE, TIME, LOCATION_CODE, INVESTIGATED, BASIC_CAUSE_ID, TIME_RELATIVE_BIRTH, PREGNANCY_TYPE, GESTATIONAL_AGE, BIRTH_TYPE)\n",
    "        FROM STDIN WITH (\n",
    "            FORMAT CSV,\n",
    "            HEADER,\n",
    "            DELIMITER ';',\n",
    "            NULL ''\n",
    "        )\n",
    "    \"\"\"\n",
    "    with open(os.path.abspath('../preprocessed_datasets/Death.csv'), 'r', encoding='utf-8') as file:\n",
    "        cursor.copy_expert(insert_death_sql, file)"
   ]
  },
  {
   "cell_type": "markdown",
   "id": "e066341d",
   "metadata": {},
   "source": [
    "### **Inserting data into the \"DeathCause\" table**"
   ]
  },
  {
   "cell_type": "code",
   "execution_count": 164,
   "id": "c3e75d89",
   "metadata": {},
   "outputs": [],
   "source": [
    "def insert_death_cause(cursor):\n",
    "    insert_death_cause_sql = \"\"\"\n",
    "        COPY \"DeathCause\" (BASIC_CAUSE_ID, DESCRIPTION)\n",
    "        FROM STDIN WITH (\n",
    "            FORMAT CSV,\n",
    "            HEADER,\n",
    "            DELIMITER ';',\n",
    "            NULL ''\n",
    "        )\n",
    "    \"\"\"\n",
    "    with open(os.path.abspath('../preprocessed_datasets/DeathCause.csv'), 'r', encoding='ISO-8859-1') as file:\n",
    "        cursor.copy_expert(insert_death_cause_sql, file)"
   ]
  },
  {
   "cell_type": "markdown",
   "id": "e953014a",
   "metadata": {},
   "source": [
    "### **Inserting data into the \"Mother\" table**"
   ]
  },
  {
   "cell_type": "code",
   "execution_count": null,
   "id": "8f8a01df",
   "metadata": {},
   "outputs": [],
   "source": [
    "def insert_mother(cursor):\n",
    "    insert_mother_sql = \"\"\"\n",
    "        COPY \"Mother\" (MOTHER_ID, LIVING_CHILDREN, DECEASED_CHILDREN, EDUCATION_LEVEL, AGE, OCCUPATION)\n",
    "        FROM STDIN WITH (\n",
    "            FORMAT CSV,\n",
    "            HEADER,\n",
    "            DELIMITER ';',\n",
    "            NULL ''\n",
    "        )\n",
    "    \"\"\"\n",
    "    with open(os.path.abspath('../preprocessed_datasets/Mother.csv'), 'r', encoding='utf-8') as file:\n",
    "        cursor.copy_expert(insert_mother_sql, file)"
   ]
  },
  {
   "cell_type": "markdown",
   "id": "8cfd1ea1",
   "metadata": {},
   "source": [
    "### **Inserting data into the \"Deceased\" table**"
   ]
  },
  {
   "cell_type": "code",
   "execution_count": null,
   "id": "95c03fb5",
   "metadata": {},
   "outputs": [],
   "source": [
    "def insert_deceased(cursor):\n",
    "    insert_deceased_sql = \"\"\"\n",
    "        COPY \"Deceased\" (DECEASED_ID, OCCUPATION, MARITAL_STATUS, AGE, WEIGHT, EDUCATION_LEVEL, RACE_COLOR, SEX)\n",
    "        FROM STDIN WITH (\n",
    "            FORMAT CSV,\n",
    "            HEADER,\n",
    "            DELIMITER ';',\n",
    "            NULL ''\n",
    "        )\n",
    "    \"\"\"\n",
    "    with open(os.path.abspath('../preprocessed_datasets/Deceased.csv'), 'r', encoding='utf-8') as file:\n",
    "        cursor.copy_expert(insert_deceased_sql, file)"
   ]
  },
  {
   "cell_type": "markdown",
   "id": "f0bf4b95",
   "metadata": {},
   "source": [
    "# **Executing the scripts and commiting changes**"
   ]
  },
  {
   "cell_type": "markdown",
   "id": "d93578e7",
   "metadata": {},
   "source": [
    "### **Executing SQL scripts**"
   ]
  },
  {
   "cell_type": "code",
   "execution_count": 167,
   "id": "752e79a5",
   "metadata": {},
   "outputs": [],
   "source": [
    "def execute_script(cursor, script):\n",
    "    cursor.execute(script)"
   ]
  },
  {
   "cell_type": "markdown",
   "id": "e6ff684a",
   "metadata": {},
   "source": [
    "### **Commiting changes and closing the cursor and connection**"
   ]
  },
  {
   "cell_type": "code",
   "execution_count": 168,
   "id": "ff6c9b9f",
   "metadata": {},
   "outputs": [],
   "source": [
    "def close_conn(connection, cursor):\n",
    "    connection.commit()\n",
    "    cursor.close()\n",
    "    connection.close()"
   ]
  },
  {
   "cell_type": "markdown",
   "id": "22151fde",
   "metadata": {},
   "source": [
    "# **Main**"
   ]
  },
  {
   "cell_type": "code",
   "execution_count": 169,
   "id": "268f9083",
   "metadata": {},
   "outputs": [],
   "source": [
    "conn,cursor = connection()\n",
    "sql = create_tables_sql()\n",
    "cursor.execute(sql)\n",
    "conn.commit()\n",
    "insert_state(cursor)\n",
    "insert_municipality(cursor)\n",
    "insert_deceased(cursor)\n",
    "insert_mother(cursor)\n",
    "insert_death_cause(cursor)\n",
    "insert_ubs(cursor)\n",
    "insert_death(cursor)\n",
    "close_conn(conn, cursor)"
   ]
  }
 ],
 "metadata": {
  "kernelspec": {
   "display_name": "base",
   "language": "python",
   "name": "python3"
  },
  "language_info": {
   "codemirror_mode": {
    "name": "ipython",
    "version": 3
   },
   "file_extension": ".py",
   "mimetype": "text/x-python",
   "name": "python",
   "nbconvert_exporter": "python",
   "pygments_lexer": "ipython3",
   "version": "3.12.4"
  }
 },
 "nbformat": 4,
 "nbformat_minor": 5
}
